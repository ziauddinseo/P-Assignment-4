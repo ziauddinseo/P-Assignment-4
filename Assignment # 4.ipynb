{
 "cells": [
  {
   "cell_type": "code",
   "execution_count": 10,
   "id": "accfec12",
   "metadata": {},
   "outputs": [
    {
     "name": "stdout",
     "output_type": "stream",
     "text": [
      "enter first numer:3\n",
      "enter second numer:3\n",
      "enter operator numer:**\n",
      "27\n"
     ]
    }
   ],
   "source": [
    "#1. Make a calculator using Python with addition , subtraction ,multiplication ,division and power.\n",
    "\n",
    "value1 = int(input(\"enter first numer:\"));\n",
    "value2 = int(input(\"enter second numer:\" ));\n",
    "ope = input(\"enter operator numer:\" );\n",
    "\n",
    "if ope == '+':\n",
    "   val = value1+value2\n",
    "   print(val);\n",
    "elif ope == '-':\n",
    "   val = value1-value2\n",
    "   print(val);\n",
    "elif ope == '*':\n",
    "   val = value1*value2\n",
    "   print(val);\n",
    "elif ope == '/':\n",
    "   val = value1/value2\n",
    "   print(val);\n",
    "elif ope == '-':\n",
    "   val = value1-value2\n",
    "   print(val);\n",
    "elif ope == '**':\n",
    "   val = value1**value2\n",
    "   print(val);\n",
    "else:\n",
    "  print(\"Enter corret Oprator\");"
   ]
  },
  {
   "cell_type": "code",
   "execution_count": 19,
   "id": "fddff6aa",
   "metadata": {},
   "outputs": [
    {
     "name": "stdout",
     "output_type": "stream",
     "text": [
      "enter number: 5\n",
      "numeric value Exists\n"
     ]
    }
   ],
   "source": [
    "#2. Write a program to check if there is any numeric value in list using forloop.\n",
    "\n",
    "list= [1,2,3,4,5,6,7,8,9];\n",
    "val = int(input(\"enter number: \"));\n",
    "for i in list:\n",
    "  if(i == val):\n",
    "        print (\"numeric value Exists\")\n"
   ]
  },
  {
   "cell_type": "code",
   "execution_count": 21,
   "id": "0ec27df2",
   "metadata": {},
   "outputs": [
    {
     "name": "stdout",
     "output_type": "stream",
     "text": [
      "{'a': 10, 'b': 20, 'c': 30}\n"
     ]
    }
   ],
   "source": [
    "#3. Write a Python script to add a key to a dictionary.\n",
    "d = {'a':10, 'b':20}\n",
    "d.update({'c':30});\n",
    "print(d);"
   ]
  },
  {
   "cell_type": "code",
   "execution_count": 27,
   "id": "0122480e",
   "metadata": {},
   "outputs": [
    {
     "name": "stdout",
     "output_type": "stream",
     "text": [
      "100\n"
     ]
    }
   ],
   "source": [
    "#4. Write a Python program to sum all the numeric items in a dictionary.\n",
    "dis = {'a':10,'b':20,'c':30,'d':40 }\n",
    "print(sum(dis.values()))"
   ]
  },
  {
   "cell_type": "code",
   "execution_count": 29,
   "id": "c9ad34a5",
   "metadata": {},
   "outputs": [
    {
     "name": "stdout",
     "output_type": "stream",
     "text": [
      "2 3 4 5 "
     ]
    }
   ],
   "source": [
    "#5Write a program to identify duplicate values from list.\n",
    "l=[1,2,3,4,5,2,3,4,7,9,5]\n",
    "l1=[]\n",
    "for i in l:\n",
    "    if i not in l1:\n",
    "        l1.append(i)\n",
    "    else:\n",
    "        print(i,end=' ')"
   ]
  },
  {
   "cell_type": "code",
   "execution_count": 34,
   "id": "874a65ce",
   "metadata": {},
   "outputs": [
    {
     "name": "stdout",
     "output_type": "stream",
     "text": [
      "Thu is Present.\n"
     ]
    }
   ],
   "source": [
    "#6. Write a Python script to check if a given key already exists in a dictionary\n",
    "dis = {'Mon':3,'Tue':5,'Wed':6,'Thu':9}\n",
    "\n",
    "check_key = \"Thu\"\n",
    "if check_key in dis:\n",
    "   print(check_key,\"is Present.\")\n",
    "else:\n",
    "   print(check_key, \" is not Present.\")"
   ]
  },
  {
   "cell_type": "code",
   "execution_count": null,
   "id": "3d03d116",
   "metadata": {},
   "outputs": [],
   "source": []
  }
 ],
 "metadata": {
  "kernelspec": {
   "display_name": "Python 3",
   "language": "python",
   "name": "python3"
  },
  "language_info": {
   "codemirror_mode": {
    "name": "ipython",
    "version": 3
   },
   "file_extension": ".py",
   "mimetype": "text/x-python",
   "name": "python",
   "nbconvert_exporter": "python",
   "pygments_lexer": "ipython3",
   "version": "3.8.8"
  }
 },
 "nbformat": 4,
 "nbformat_minor": 5
}
